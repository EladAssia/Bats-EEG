{
  "nbformat": 4,
  "nbformat_minor": 0,
  "metadata": {
    "colab": {
      "name": "Bats_EEG.ipynb",
      "version": "0.3.2",
      "provenance": [],
      "collapsed_sections": [],
      "include_colab_link": true
    },
    "kernelspec": {
      "name": "python3",
      "display_name": "Python 3"
    },
    "accelerator": "GPU"
  },
  "cells": [
    {
      "cell_type": "markdown",
      "metadata": {
        "id": "view-in-github",
        "colab_type": "text"
      },
      "source": [
        "<a href=\"https://colab.research.google.com/github/EladAssia/Bats-EEG/blob/master/Bats_EEG.ipynb\" target=\"_parent\"><img src=\"https://colab.research.google.com/assets/colab-badge.svg\" alt=\"Open In Colab\"/></a>"
      ]
    },
    {
      "cell_type": "markdown",
      "metadata": {
        "id": "R3_16012cCmj",
        "colab_type": "text"
      },
      "source": [
        "**Connect to drive**\n",
        "\n",
        "---\n",
        "\n",
        "\n",
        "Connect to the drive to import the data"
      ]
    },
    {
      "cell_type": "code",
      "metadata": {
        "id": "007McuolC01R",
        "colab_type": "code",
        "outputId": "77d93a29-61c7-47d0-ada5-87a7c40d9368",
        "colab": {
          "base_uri": "https://localhost:8080/",
          "height": 35
        }
      },
      "source": [
        "from google.colab import drive\n",
        "drive.mount('/content/drive')"
      ],
      "execution_count": 1,
      "outputs": [
        {
          "output_type": "stream",
          "text": [
            "Drive already mounted at /content/drive; to attempt to forcibly remount, call drive.mount(\"/content/drive\", force_remount=True).\n"
          ],
          "name": "stdout"
        }
      ]
    },
    {
      "cell_type": "markdown",
      "metadata": {
        "id": "ylKTfeCicNdj",
        "colab_type": "text"
      },
      "source": [
        "**Import libraries**\n",
        "\n",
        "---\n",
        "\n",
        "\n",
        "Import necessary libraries for importing data, plotting and model creation"
      ]
    },
    {
      "cell_type": "code",
      "metadata": {
        "id": "eVMejmZ9cUEK",
        "colab_type": "code",
        "outputId": "23a6a24a-29ae-48de-92e1-798cf7ca9421",
        "colab": {
          "base_uri": "https://localhost:8080/",
          "height": 35
        }
      },
      "source": [
        "import os\n",
        "import scipy.io\n",
        "from scipy.signal import spectrogram\n",
        "import math\n",
        "import numpy as np\n",
        "import pandas as pd\n",
        "import matplotlib.pyplot as plt\n",
        "from sklearn.model_selection import train_test_split\n",
        "from sklearn.metrics import classification_report, confusion_matrix\n",
        "from keras.models import Model\n",
        "from keras.layers import Input, Activation, Dropout, BatchNormalization\n",
        "from keras.layers import Dense, LSTM, Conv1D\n",
        "from keras.optimizers import Adam\n",
        "from keras.utils import to_categorical\n",
        "from keras.callbacks import ModelCheckpoint\n",
        "from keras import backend as K\n",
        "%matplotlib inline "
      ],
      "execution_count": 2,
      "outputs": [
        {
          "output_type": "stream",
          "text": [
            "Using TensorFlow backend.\n"
          ],
          "name": "stderr"
        }
      ]
    },
    {
      "cell_type": "markdown",
      "metadata": {
        "id": "wQ-ORst9eC8U",
        "colab_type": "text"
      },
      "source": [
        "**Parameters and settings**\n",
        "\n",
        "\n",
        "---\n",
        "\n",
        "\n",
        "Set the parameters and settings"
      ]
    },
    {
      "cell_type": "code",
      "metadata": {
        "id": "m86CbzLKC6oO",
        "colab_type": "code",
        "colab": {}
      },
      "source": [
        "seed = 0 # do not change\n",
        "classes = ['ASI', 'ASM', 'AWI', 'AWM'] # classes\n",
        "num_of_conds = len(classes) # number of classes\n",
        "split_raw = False # whether to split each 10-sec segment to teb 1-sec segments\n",
        "leave_bat = False # whether to leave the last bat as test\n",
        "save_data = False # whether to save the data to the drive\n",
        "s_rate = 500 # the sample rate\n",
        "data_process = 'Wavelets' # switch between 'ERP' and 'Wavelets' data\n",
        "dev_per = 0.1 # percentage of the dev data\n",
        "drop_rate = 0.8 # the dropout value\n",
        "batch_size = 32 # the batch size\n",
        "epochs = 50 # number of epochs\n",
        "folds = 5 # number of k-folds for cross-validation\n",
        "model_type = 'wav' # set the model type. Can choose between 'EEG_LSTM', 'EEGNet', 'DeepConvNet' and 'EEGNet_SSVEP'\n",
        "base_folder = 'drive/My Drive/Colab Notebooks/Bats EEG' # set the base folder\n",
        "data_folder = base_folder + '/Data/' # set the data folder\n",
        "checkpoint_path = base_folder + \"/Models/checkpoints/\" + data_process + \"_cp.ckpt\" # set the checkpoint name\n",
        "checkpoint_dir = os.path.dirname(checkpoint_path) # set the checkpoint folder"
      ],
      "execution_count": 0,
      "outputs": []
    },
    {
      "cell_type": "markdown",
      "metadata": {
        "id": "li3eKqskeUvK",
        "colab_type": "text"
      },
      "source": [
        "**Import data**\n",
        "\n",
        "---\n",
        "\n",
        "\n",
        "Import the bats data and labels"
      ]
    },
    {
      "cell_type": "code",
      "metadata": {
        "id": "jJ1-a2jK1A0w",
        "colab_type": "code",
        "outputId": "d7f79f6f-faf3-4151-aab4-634ba193af08",
        "colab": {
          "base_uri": "https://localhost:8080/",
          "height": 35
        }
      },
      "source": [
        "x = [] # set the data as empty\n",
        "y = [] # set the labels as empty\n",
        "files = os.listdir(data_folder) # read the files in the folder\n",
        "for file in files: # run over the files\n",
        "  if file[-3:] == 'mat': # if the file is a mat file\n",
        "    f = scipy.io.loadmat(data_folder + file) # read the file\n",
        "    for k in list(f.keys()): # run over the keys in the file\n",
        "      if 'eeg' in k or 'EEG' in k: # if this is an eeg data\n",
        "        ex = pd.read_excel(data_folder + file[:-3] + 'xlsx', header=None) # read the excel file\n",
        "        j = 0\n",
        "        for i in range(len(ex)): # run over each row in the excel file\n",
        "          tmp = f[k][int(ex[0][i]*s_rate):int(ex[1][i]*s_rate), 0] # take the relevant data\n",
        "          if np.sum(np.isnan(tmp)) == 0: # check that there are no NaNs\n",
        "            j += 1\n",
        "            if split_raw: # split the segment to 10 segments of one-sec\n",
        "              for j in range(0, tmp.shape[0], s_rate):\n",
        "                x.append(tmp[j:j+s_rate]) # append the row\n",
        "                y.append(ex[2][i]-1) # append the label\n",
        "            else:\n",
        "              x.append(tmp) # append the row\n",
        "              y.append(ex[2][i]-1) # append the label\n",
        "\n",
        "x = np.array(x) # transform the data list to data array\n",
        "y = np.array(y) # transform the label list to label array\n",
        "print('Total data size is: {} and label size is: {}'.format(x.shape, y.shape))\n",
        "\n",
        "\n",
        "if leave_bat:\n",
        "  x_test = x[-j:, :]\n",
        "  Y_test = y[-j:]\n",
        "  x = x[:-j, :]\n",
        "  y = y[:-j]\n",
        "  print('Train data size is: {} and label size is: {}'.format(x.shape, y.shape))\n",
        "  print('Test data size is: {} and label size is: {}'.format(x_test.shape, Y_test.shape))\n",
        "  x_test = (x_test- np.max(np.max(x_test)))/(np.max(np.max(x_test)) - np.min(np.min(x_test)))\n",
        "\n",
        "x = (x- np.max(np.max(x)))/(np.max(np.max(x)) - np.min(np.min(x)))"
      ],
      "execution_count": 4,
      "outputs": [
        {
          "output_type": "stream",
          "text": [
            "Total data size is: (1306, 5000) and label size is: (1306,)\n"
          ],
          "name": "stdout"
        }
      ]
    },
    {
      "cell_type": "markdown",
      "metadata": {
        "id": "jp3zuywTeiXi",
        "colab_type": "text"
      },
      "source": [
        "Plot data histogram function"
      ]
    },
    {
      "cell_type": "code",
      "metadata": {
        "id": "kMXvNmKkJ2Nw",
        "colab_type": "code",
        "colab": {}
      },
      "source": [
        "def plot_hist(data, names, ttl):\n",
        "  # This function plots a histogram of the classes frequencies\n",
        "  \n",
        "  # Inputs:\n",
        "  # data - the set labels\n",
        "  # names - the classes' names\n",
        "  # ttl - the title of the histogram\n",
        "  \n",
        "  n = plt.hist(data, bins = len(names), rwidth=0.5) # plot the histogram\n",
        "#   print(n) # print the number of each class frequency\n",
        "  plt.xticks(np.arange(0.38, len(names)-1, 0.75), names) # change the bins' names to the classes\n",
        "  plt.xlabel('Classes') # add x axis label\n",
        "  plt.ylabel('Frequency') # add y axis label\n",
        "  plt.title(ttl) # add title\n",
        "  plt.show() # show image"
      ],
      "execution_count": 0,
      "outputs": []
    },
    {
      "cell_type": "markdown",
      "metadata": {
        "id": "hc_6p6WsO3TV",
        "colab_type": "text"
      },
      "source": [
        "Plot the histogram of the data"
      ]
    },
    {
      "cell_type": "code",
      "metadata": {
        "id": "qSuF1FlAWg8W",
        "colab_type": "code",
        "outputId": "95d99513-e70c-434a-d63e-4061f507cbd7",
        "colab": {
          "base_uri": "https://localhost:8080/",
          "height": 295
        }
      },
      "source": [
        "if leave_bat:\n",
        "  plot_hist(y, classes, 'Train data histogram')\n",
        "  plot_hist(Y_test, classes, 'Test data histogram')\n",
        "else:\n",
        "  plot_hist(y, classes, 'Total data histogram')"
      ],
      "execution_count": 6,
      "outputs": [
        {
          "output_type": "display_data",
          "data": {
            "image/png": "[encoded data removed]",
            "text/plain": [
              "<Figure size 432x288 with 1 Axes>"
            ]
          },
          "metadata": {
            "tags": []
          }
        }
      ]
    },
    {
      "cell_type": "markdown",
      "metadata": {
        "id": "Kwk_qHmGe_B5",
        "colab_type": "text"
      },
      "source": [
        "**Data process**\n",
        "\n",
        "---\n",
        "\n",
        "\n",
        "A function that converts the ERP to Wavelets"
      ]
    },
    {
      "cell_type": "code",
      "metadata": {
        "id": "oC2oS5fRfxQ5",
        "colab_type": "code",
        "colab": {}
      },
      "source": [
        "def convert_to_wavelets(data, fs):\n",
        "#   print(data.shape)\n",
        "#   return\n",
        "  fs = fs # Sampling frequencies\n",
        "  nfft = fs # Length of each window segment\n",
        "  nperseg = 64 # Number of points per segment\n",
        "  noverlap = nperseg-1 # Overlap between windows\n",
        "  first_seg = True\n",
        "  \n",
        "  for i in range(data.shape[0]):\n",
        "    f, t, x = spectrogram(data[i], fs=fs, nperseg = nperseg, nfft=nfft, noverlap=noverlap)\n",
        "    f = np.where(f>64)[0][0]\n",
        "    x = x[:f, :]\n",
        "    if first_seg:\n",
        "      first_seg = False\n",
        "      new_data = np.empty((data.shape[0], x.shape[0], x.shape[1]))\n",
        "    new_data[i] = x\n",
        "    \n",
        "  return new_data"
      ],
      "execution_count": 0,
      "outputs": []
    },
    {
      "cell_type": "markdown",
      "metadata": {
        "id": "f_EKK54eY8ZT",
        "colab_type": "text"
      },
      "source": [
        "Check if to transform to wavelets"
      ]
    },
    {
      "cell_type": "code",
      "metadata": {
        "id": "eE56v3BIl787",
        "colab_type": "code",
        "outputId": "b4699186-3fe6-402e-e801-758a51b8d3b9",
        "colab": {
          "base_uri": "https://localhost:8080/",
          "height": 35
        }
      },
      "source": [
        "if data_process == 'Wavelets': # if the data process is wavelets\n",
        "  X = convert_to_wavelets(x, s_rate) # convert the ERPs trials to wavelets\n",
        "  del x\n",
        "  if leave_bat:\n",
        "    X_test = convert_to_wavelets(x_test, s_rate)\n",
        "    del x_test\n",
        "    print('Train data size is: {}'.format(X.shape))\n",
        "    print('Test data size is: {}'.format(X_test.shape))\n",
        "  else:\n",
        "    print('Data size is: {}'.format(X.shape))"
      ],
      "execution_count": 8,
      "outputs": [
        {
          "output_type": "stream",
          "text": [
            "Data size is: (1306, 65, 4937)\n"
          ],
          "name": "stdout"
        }
      ]
    },
    {
      "cell_type": "code",
      "metadata": {
        "id": "UdhHt9WM_gF0",
        "colab_type": "code",
        "colab": {}
      },
      "source": [
        "if save_data:\n",
        "  np.save(data_folder + 'data', X)\n",
        "  np.save(data_folder + 'labels', y)\n",
        "  if leave_bat:\n",
        "    np.save(data_folder + 'test_data', X_test)\n",
        "    np.save(data_folder + 'test_labels', y_test)"
      ],
      "execution_count": 0,
      "outputs": []
    },
    {
      "cell_type": "markdown",
      "metadata": {
        "id": "_ITs9yXGdGie",
        "colab_type": "text"
      },
      "source": [
        "\n",
        "Divide the data to train and test"
      ]
    },
    {
      "cell_type": "code",
      "metadata": {
        "id": "wcaXRIvHdEeP",
        "colab_type": "code",
        "outputId": "21a1ed0c-28f2-4847-d345-49efb41766d0",
        "colab": {
          "base_uri": "https://localhost:8080/",
          "height": 608
        }
      },
      "source": [
        "if not leave_bat:\n",
        "  X_train, X_test, Y_train, Y_test = train_test_split(X, y, test_size=dev_per, random_state=4)\n",
        "  print('Number of train data: {}, number of train labels: {}'.format(X_train.shape[0], Y_train.shape[0]))\n",
        "  print('Number of validation data: {}, number of validation labels: {}'.format(X_test.shape[0], Y_test.shape[0]))\n",
        "  plot_hist(Y_train, classes, 'Train data histogram')\n",
        "  plot_hist(Y_test, classes, 'Validation data histogram')\n",
        "else:\n",
        "  X_train, Y_train = X, y\n",
        "  \n",
        "del X\n",
        "\n",
        "Y_train = to_categorical(Y_train) # change to one-hot vector\n",
        "Y_test = to_categorical(Y_test) # change to one-hot vector"
      ],
      "execution_count": 10,
      "outputs": [
        {
          "output_type": "stream",
          "text": [
            "Number of train data: 1175, number of train labels: 1175\n",
            "Number of validation data: 131, number of validation labels: 131\n"
          ],
          "name": "stdout"
        },
        {
          "output_type": "display_data",
          "data": {
            "image/png": "[encoded data removed]",
            "text/plain": [
              "<Figure size 432x288 with 1 Axes>"
            ]
          },
          "metadata": {
            "tags": []
          }
        },
        {
          "output_type": "display_data",
          "data": {
            "image/png": "[encoded data removed]",
            "text/plain": [
              "<Figure size 432x288 with 1 Axes>"
            ]
          },
          "metadata": {
            "tags": []
          }
        }
      ]
    },
    {
      "cell_type": "markdown",
      "metadata": {
        "id": "BjiY8xUMcjcz",
        "colab_type": "text"
      },
      "source": [
        "**Models**\n",
        "\n",
        "---\n",
        "\n",
        "ERP model"
      ]
    },
    {
      "cell_type": "code",
      "metadata": {
        "id": "ocBFRhIecxsa",
        "colab_type": "code",
        "colab": {}
      },
      "source": [
        "def ERP_model(input_shape, nb_classes = 1, dropoutRate = 0.5):\n",
        "  \n",
        "  input1 = Input(shape = input_shape)\n",
        "  \n",
        "  x = LSTM(units = 128, return_sequences=False)(input1)\n",
        "  x = Activation('relu')(x)\n",
        "  x = Dropout(dropoutRate)(x)\n",
        "  x = BatchNormalization()(x)\n",
        "  \n",
        "  x = Dense(units = nb_classes)(x)\n",
        "  softmax = Activation('softmax', name = 'softmax')(x)\n",
        "  \n",
        "  return Model(inputs=input1, outputs=softmax)"
      ],
      "execution_count": 0,
      "outputs": []
    },
    {
      "cell_type": "markdown",
      "metadata": {
        "id": "6vu3sMClZ0tV",
        "colab_type": "text"
      },
      "source": [
        "Wavelets model"
      ]
    },
    {
      "cell_type": "code",
      "metadata": {
        "id": "X9_gr0g_Z2gN",
        "colab_type": "code",
        "colab": {}
      },
      "source": [
        "def Wav_model(input_shape, nb_classes = 1, dropoutRate = 0.5):\n",
        "  \n",
        "  input1 = Input(shape = input_shape)\n",
        "  x = Conv1D(196, kernel_size=15, strides=4)(input1)\n",
        "  x = BatchNormalization()(x)\n",
        "  x = Activation('relu')(x)\n",
        "  x = Dropout(dropoutRate)(x)\n",
        "  \n",
        "  x = LSTM(units = 128, return_sequences=True)(x)\n",
        "  x = BatchNormalization()(x)\n",
        "  x = Activation('relu')(x)\n",
        "  x = Dropout(dropoutRate)(x)\n",
        "  \n",
        "  x = LSTM(units = 128, return_sequences=False)(x)\n",
        "  x = BatchNormalization()(x)\n",
        "  x = Activation('relu')(x)\n",
        "  x = Dropout(dropoutRate)(x)\n",
        "  \n",
        "  x = Dense(units = nb_classes)(x)\n",
        "  out = Activation('softmax', name = 'softmax')(x)\n",
        "  \n",
        "  return Model(inputs=input1, outputs=out)"
      ],
      "execution_count": 0,
      "outputs": []
    },
    {
      "cell_type": "markdown",
      "metadata": {
        "id": "sVIKLohWkt2G",
        "colab_type": "text"
      },
      "source": [
        "Create the model and call the function for creating the model, the optimizer and the loss function"
      ]
    },
    {
      "cell_type": "code",
      "metadata": {
        "id": "PetKql6H2YJl",
        "colab_type": "code",
        "outputId": "29d749b1-df14-4a11-b5cf-ff7ef008c83c",
        "colab": {
          "base_uri": "https://localhost:8080/",
          "height": 367
        }
      },
      "source": [
        "while model_type.lower() != 'erp' and model_type.lower() != 'wav':\n",
        "  model_type = input('Please enter the model type. You may choose between \"ERP\" to \"Wav\"')\n",
        "  \n",
        "if model_type.lower() == 'erp':\n",
        "  model = ERP_model(input_shape = (X_train.shape[1], X_train.shape[2]), \n",
        "                   nb_classes = num_of_conds, dropoutRate = drop_rate)\n",
        "elif model_type.lower() == 'wav':\n",
        "  model = Wav_model(input_shape = (X_train.shape[1], X_train.shape[2]), \n",
        "                   nb_classes = num_of_conds, dropoutRate = drop_rate)\n",
        "\n",
        "model.compile(loss='categorical_crossentropy', optimizer='adam', \n",
        "              metrics = ['accuracy'])\n",
        "\n",
        "cp_callback = ModelCheckpoint(checkpoint_path, save_weights_only=True, verbose=1)"
      ],
      "execution_count": 13,
      "outputs": [
        {
          "output_type": "stream",
          "text": [
            "WARNING: Logging before flag parsing goes to stderr.\n",
            "W0626 11:26:53.316232 139959226587008 deprecation_wrapper.py:119] From /usr/local/lib/python3.6/dist-packages/keras/backend/tensorflow_backend.py:74: The name tf.get_default_graph is deprecated. Please use tf.compat.v1.get_default_graph instead.\n",
            "\n",
            "W0626 11:26:53.341419 139959226587008 deprecation_wrapper.py:119] From /usr/local/lib/python3.6/dist-packages/keras/backend/tensorflow_backend.py:517: The name tf.placeholder is deprecated. Please use tf.compat.v1.placeholder instead.\n",
            "\n",
            "W0626 11:26:53.347875 139959226587008 deprecation_wrapper.py:119] From /usr/local/lib/python3.6/dist-packages/keras/backend/tensorflow_backend.py:4138: The name tf.random_uniform is deprecated. Please use tf.random.uniform instead.\n",
            "\n",
            "W0626 11:26:53.463209 139959226587008 deprecation_wrapper.py:119] From /usr/local/lib/python3.6/dist-packages/keras/backend/tensorflow_backend.py:133: The name tf.placeholder_with_default is deprecated. Please use tf.compat.v1.placeholder_with_default instead.\n",
            "\n",
            "W0626 11:26:53.496681 139959226587008 deprecation.py:506] From /usr/local/lib/python3.6/dist-packages/keras/backend/tensorflow_backend.py:3445: calling dropout (from tensorflow.python.ops.nn_ops) with keep_prob is deprecated and will be removed in a future version.\n",
            "Instructions for updating:\n",
            "Please use `rate` instead of `keep_prob`. Rate should be set to `rate = 1 - keep_prob`.\n",
            "W0626 11:26:53.500618 139959226587008 nn_ops.py:4224] Large dropout rate: 0.8 (>0.5). In TensorFlow 2.x, dropout() uses dropout rate instead of keep_prob. Please ensure that this is intended.\n",
            "W0626 11:26:53.904187 139959226587008 nn_ops.py:4224] Large dropout rate: 0.8 (>0.5). In TensorFlow 2.x, dropout() uses dropout rate instead of keep_prob. Please ensure that this is intended.\n",
            "W0626 11:26:54.465642 139959226587008 nn_ops.py:4224] Large dropout rate: 0.8 (>0.5). In TensorFlow 2.x, dropout() uses dropout rate instead of keep_prob. Please ensure that this is intended.\n",
            "W0626 11:26:54.501328 139959226587008 deprecation_wrapper.py:119] From /usr/local/lib/python3.6/dist-packages/keras/optimizers.py:790: The name tf.train.Optimizer is deprecated. Please use tf.compat.v1.train.Optimizer instead.\n",
            "\n",
            "W0626 11:26:54.531453 139959226587008 deprecation_wrapper.py:119] From /usr/local/lib/python3.6/dist-packages/keras/backend/tensorflow_backend.py:3295: The name tf.log is deprecated. Please use tf.math.log instead.\n",
            "\n"
          ],
          "name": "stderr"
        }
      ]
    },
    {
      "cell_type": "code",
      "metadata": {
        "id": "fXHfQlj7gC1Z",
        "colab_type": "code",
        "outputId": "1487b6c5-64ea-4d05-d727-4b028683339a",
        "colab": {
          "base_uri": "https://localhost:8080/",
          "height": 659
        }
      },
      "source": [
        "model.summary()"
      ],
      "execution_count": 14,
      "outputs": [
        {
          "output_type": "stream",
          "text": [
            "_________________________________________________________________\n",
            "Layer (type)                 Output Shape              Param #   \n",
            "=================================================================\n",
            "input_1 (InputLayer)         (None, 65, 4937)          0         \n",
            "_________________________________________________________________\n",
            "conv1d_1 (Conv1D)            (None, 13, 196)           14514976  \n",
            "_________________________________________________________________\n",
            "batch_normalization_1 (Batch (None, 13, 196)           784       \n",
            "_________________________________________________________________\n",
            "activation_1 (Activation)    (None, 13, 196)           0         \n",
            "_________________________________________________________________\n",
            "dropout_1 (Dropout)          (None, 13, 196)           0         \n",
            "_________________________________________________________________\n",
            "lstm_1 (LSTM)                (None, 13, 128)           166400    \n",
            "_________________________________________________________________\n",
            "batch_normalization_2 (Batch (None, 13, 128)           512       \n",
            "_________________________________________________________________\n",
            "activation_2 (Activation)    (None, 13, 128)           0         \n",
            "_________________________________________________________________\n",
            "dropout_2 (Dropout)          (None, 13, 128)           0         \n",
            "_________________________________________________________________\n",
            "lstm_2 (LSTM)                (None, 128)               131584    \n",
            "_________________________________________________________________\n",
            "batch_normalization_3 (Batch (None, 128)               512       \n",
            "_________________________________________________________________\n",
            "activation_3 (Activation)    (None, 128)               0         \n",
            "_________________________________________________________________\n",
            "dropout_3 (Dropout)          (None, 128)               0         \n",
            "_________________________________________________________________\n",
            "dense_1 (Dense)              (None, 4)                 516       \n",
            "_________________________________________________________________\n",
            "softmax (Activation)         (None, 4)                 0         \n",
            "=================================================================\n",
            "Total params: 14,815,284\n",
            "Trainable params: 14,814,380\n",
            "Non-trainable params: 904\n",
            "_________________________________________________________________\n"
          ],
          "name": "stdout"
        }
      ]
    },
    {
      "cell_type": "code",
      "metadata": {
        "id": "rsfojoa90Mc0",
        "colab_type": "code",
        "outputId": "51a1859e-5893-4153-b89e-36e40c53a97d",
        "colab": {
          "base_uri": "https://localhost:8080/",
          "height": 1000
        }
      },
      "source": [
        "data_size = X_train.shape[0]\n",
        "folds_ = [i for i in range(0, X_train.shape[0], int(math.ceil(X_train.shape[0]/folds)))]\n",
        "folds_.append(data_size)\n",
        "history = []\n",
        "idx = np.arange(data_size)\n",
        "for i in range(len(folds_)-1):\n",
        "  print('Starting fold number: {}/{}'.format(i+1, folds))\n",
        "  train_idx = np.delete(idx, np.arange(folds_[i], folds_[i+1]))\n",
        "  x_train, y_train = X_train[train_idx], Y_train[train_idx] \n",
        "  x_val, y_val = X_train[folds_[i]:folds_[i+1]], Y_train[folds_[i]:folds_[i+1]]\n",
        "  tmp = model.fit(x_train, y_train, \n",
        "              batch_size = batch_size, \n",
        "              epochs = epochs, \n",
        "              validation_data = (x_val, y_val),\n",
        "#               callbacks = [cp_callback])\n",
        "                 )\n",
        "  history.append(tmp)\n",
        "  del tmp\n",
        "  "
      ],
      "execution_count": 15,
      "outputs": [
        {
          "output_type": "stream",
          "text": [
            "Starting fold number: 1/5\n"
          ],
          "name": "stdout"
        },
        {
          "output_type": "stream",
          "text": [
            "W0626 11:26:55.615324 139959226587008 deprecation.py:323] From /usr/local/lib/python3.6/dist-packages/tensorflow/python/ops/math_grad.py:1250: add_dispatch_support.<locals>.wrapper (from tensorflow.python.ops.array_ops) is deprecated and will be removed in a future version.\n",
            "Instructions for updating:\n",
            "Use tf.where in 2.0, which has the same broadcast rule as np.where\n"
          ],
          "name": "stderr"
        },
        {
          "output_type": "stream",
          "text": [
            "Train on 940 samples, validate on 235 samples\n",
            "Epoch 1/50\n",
            "940/940 [==============================] - 11s 11ms/step - loss: 1.3809 - acc: 0.5415 - val_loss: 1.2084 - val_acc: 0.8170\n",
            "Epoch 2/50\n",
            "940/940 [==============================] - 6s 7ms/step - loss: 0.8569 - acc: 0.7628 - val_loss: 1.2675 - val_acc: 0.8340\n",
            "Epoch 3/50\n",
            "940/940 [==============================] - 6s 7ms/step - loss: 0.8337 - acc: 0.8043 - val_loss: 1.1316 - val_acc: 0.8340\n",
            "Epoch 4/50\n",
            "940/940 [==============================] - 7s 7ms/step - loss: 0.7429 - acc: 0.8202 - val_loss: 1.2577 - val_acc: 0.8340\n",
            "Epoch 5/50\n",
            "940/940 [==============================] - 7s 7ms/step - loss: 0.6997 - acc: 0.8383 - val_loss: 1.1044 - val_acc: 0.8383\n",
            "Epoch 6/50\n",
            "940/940 [==============================] - 7s 7ms/step - loss: 0.7257 - acc: 0.8191 - val_loss: 1.0703 - val_acc: 0.8426\n",
            "Epoch 7/50\n",
            "940/940 [==============================] - 7s 7ms/step - loss: 0.5730 - acc: 0.8564 - val_loss: 0.9188 - val_acc: 0.8511\n",
            "Epoch 8/50\n",
            "940/940 [==============================] - 7s 7ms/step - loss: 0.5647 - acc: 0.8532 - val_loss: 0.7735 - val_acc: 0.8596\n",
            "Epoch 9/50\n",
            "940/940 [==============================] - 7s 7ms/step - loss: 0.5431 - acc: 0.8596 - val_loss: 0.8480 - val_acc: 0.8553\n",
            "Epoch 10/50\n",
            "940/940 [==============================] - 7s 7ms/step - loss: 0.5862 - acc: 0.8479 - val_loss: 0.8676 - val_acc: 0.8638\n",
            "Epoch 11/50\n",
            "940/940 [==============================] - 7s 7ms/step - loss: 0.4972 - acc: 0.8723 - val_loss: 0.9546 - val_acc: 0.8553\n",
            "Epoch 12/50\n",
            "940/940 [==============================] - 7s 7ms/step - loss: 0.5105 - acc: 0.8702 - val_loss: 0.7905 - val_acc: 0.8596\n",
            "Epoch 13/50\n",
            "940/940 [==============================] - 7s 7ms/step - loss: 0.5141 - acc: 0.8660 - val_loss: 0.7661 - val_acc: 0.8511\n",
            "Epoch 14/50\n",
            "940/940 [==============================] - 7s 7ms/step - loss: 0.5015 - acc: 0.8745 - val_loss: 0.7600 - val_acc: 0.8638\n",
            "Epoch 15/50\n",
            "940/940 [==============================] - 7s 7ms/step - loss: 0.4517 - acc: 0.8862 - val_loss: 0.7002 - val_acc: 0.8681\n",
            "Epoch 16/50\n",
            "940/940 [==============================] - 7s 7ms/step - loss: 0.4543 - acc: 0.8894 - val_loss: 0.6611 - val_acc: 0.8638\n",
            "Epoch 17/50\n",
            "940/940 [==============================] - 7s 7ms/step - loss: 0.4703 - acc: 0.8872 - val_loss: 0.5734 - val_acc: 0.8681\n",
            "Epoch 18/50\n",
            "940/940 [==============================] - 7s 7ms/step - loss: 0.4446 - acc: 0.8830 - val_loss: 0.6921 - val_acc: 0.8766\n",
            "Epoch 19/50\n",
            "940/940 [==============================] - 7s 7ms/step - loss: 0.4647 - acc: 0.8851 - val_loss: 0.6148 - val_acc: 0.8681\n",
            "Epoch 20/50\n",
            "940/940 [==============================] - 7s 7ms/step - loss: 0.4489 - acc: 0.8915 - val_loss: 0.6038 - val_acc: 0.8723\n",
            "Epoch 21/50\n",
            "940/940 [==============================] - 7s 7ms/step - loss: 0.4051 - acc: 0.8936 - val_loss: 0.6265 - val_acc: 0.8723\n",
            "Epoch 22/50\n",
            "940/940 [==============================] - 7s 7ms/step - loss: 0.4083 - acc: 0.8968 - val_loss: 0.6202 - val_acc: 0.8766\n",
            "Epoch 23/50\n",
            "940/940 [==============================] - 7s 7ms/step - loss: 0.4262 - acc: 0.8979 - val_loss: 0.6013 - val_acc: 0.8851\n",
            "Epoch 24/50\n",
            "940/940 [==============================] - 7s 7ms/step - loss: 0.3976 - acc: 0.8979 - val_loss: 0.5715 - val_acc: 0.8681\n",
            "Epoch 25/50\n",
            "940/940 [==============================] - 7s 7ms/step - loss: 0.4094 - acc: 0.8989 - val_loss: 0.5178 - val_acc: 0.8766\n",
            "Epoch 26/50\n",
            "940/940 [==============================] - 7s 7ms/step - loss: 0.4200 - acc: 0.8883 - val_loss: 0.5251 - val_acc: 0.8723\n",
            "Epoch 27/50\n",
            "940/940 [==============================] - 7s 7ms/step - loss: 0.4201 - acc: 0.8989 - val_loss: 0.5686 - val_acc: 0.8681\n",
            "Epoch 28/50\n",
            "940/940 [==============================] - 7s 7ms/step - loss: 0.4199 - acc: 0.8904 - val_loss: 0.5564 - val_acc: 0.8681\n",
            "Epoch 29/50\n",
            "940/940 [==============================] - 7s 7ms/step - loss: 0.4351 - acc: 0.8989 - val_loss: 0.5535 - val_acc: 0.8723\n",
            "Epoch 30/50\n",
            "940/940 [==============================] - 7s 7ms/step - loss: 0.4217 - acc: 0.8979 - val_loss: 0.5550 - val_acc: 0.8766\n",
            "Epoch 31/50\n",
            "940/940 [==============================] - 7s 7ms/step - loss: 0.3903 - acc: 0.8926 - val_loss: 0.5268 - val_acc: 0.8766\n",
            "Epoch 32/50\n",
            "940/940 [==============================] - 7s 7ms/step - loss: 0.3948 - acc: 0.9032 - val_loss: 0.5450 - val_acc: 0.8723\n",
            "Epoch 33/50\n",
            "940/940 [==============================] - 7s 7ms/step - loss: 0.3781 - acc: 0.9021 - val_loss: 0.5316 - val_acc: 0.8723\n",
            "Epoch 34/50\n",
            "940/940 [==============================] - 7s 7ms/step - loss: 0.3871 - acc: 0.9085 - val_loss: 0.4918 - val_acc: 0.8766\n",
            "Epoch 35/50\n",
            "940/940 [==============================] - 7s 7ms/step - loss: 0.3854 - acc: 0.9053 - val_loss: 0.4941 - val_acc: 0.8809\n",
            "Epoch 36/50\n",
            "940/940 [==============================] - 7s 7ms/step - loss: 0.3931 - acc: 0.9032 - val_loss: 0.5350 - val_acc: 0.8809\n",
            "Epoch 37/50\n",
            "940/940 [==============================] - 7s 7ms/step - loss: 0.3796 - acc: 0.9106 - val_loss: 0.4602 - val_acc: 0.8851\n",
            "Epoch 38/50\n",
            "940/940 [==============================] - 7s 7ms/step - loss: 0.4006 - acc: 0.9053 - val_loss: 0.4780 - val_acc: 0.8766\n",
            "Epoch 39/50\n",
            "940/940 [==============================] - 7s 7ms/step - loss: 0.3429 - acc: 0.9064 - val_loss: 0.5022 - val_acc: 0.8809\n",
            "Epoch 40/50\n",
            "940/940 [==============================] - 7s 7ms/step - loss: 0.4092 - acc: 0.9000 - val_loss: 0.5569 - val_acc: 0.8723\n",
            "Epoch 41/50\n",
            "940/940 [==============================] - 7s 7ms/step - loss: 0.3533 - acc: 0.9117 - val_loss: 0.5606 - val_acc: 0.8809\n",
            "Epoch 42/50\n",
            "940/940 [==============================] - 7s 7ms/step - loss: 0.3770 - acc: 0.9106 - val_loss: 0.5511 - val_acc: 0.8809\n",
            "Epoch 43/50\n",
            "940/940 [==============================] - 7s 7ms/step - loss: 0.3923 - acc: 0.9074 - val_loss: 0.5845 - val_acc: 0.8766\n",
            "Epoch 44/50\n",
            "940/940 [==============================] - 7s 7ms/step - loss: 0.3474 - acc: 0.9106 - val_loss: 0.5751 - val_acc: 0.8766\n",
            "Epoch 45/50\n",
            "940/940 [==============================] - 7s 7ms/step - loss: 0.3275 - acc: 0.9138 - val_loss: 0.5777 - val_acc: 0.8681\n",
            "Epoch 46/50\n",
            "940/940 [==============================] - 7s 7ms/step - loss: 0.3907 - acc: 0.9043 - val_loss: 0.6012 - val_acc: 0.8596\n",
            "Epoch 47/50\n",
            "940/940 [==============================] - 7s 7ms/step - loss: 0.3637 - acc: 0.9064 - val_loss: 0.5284 - val_acc: 0.8723\n",
            "Epoch 48/50\n",
            "940/940 [==============================] - 7s 7ms/step - loss: 0.3805 - acc: 0.9096 - val_loss: 0.4963 - val_acc: 0.8723\n",
            "Epoch 49/50\n",
            "940/940 [==============================] - 7s 7ms/step - loss: 0.3433 - acc: 0.9053 - val_loss: 0.5079 - val_acc: 0.8596\n",
            "Epoch 50/50\n",
            "940/940 [==============================] - 7s 7ms/step - loss: 0.3578 - acc: 0.9064 - val_loss: 0.5296 - val_acc: 0.8809\n",
            "Starting fold number: 2/5\n",
            "Train on 940 samples, validate on 235 samples\n",
            "Epoch 1/50\n",
            "940/940 [==============================] - 7s 7ms/step - loss: 0.4384 - acc: 0.8936 - val_loss: 0.2697 - val_acc: 0.9191\n",
            "Epoch 2/50\n",
            "940/940 [==============================] - 7s 7ms/step - loss: 0.3856 - acc: 0.8936 - val_loss: 0.2937 - val_acc: 0.9149\n",
            "Epoch 3/50\n",
            "940/940 [==============================] - 7s 7ms/step - loss: 0.4093 - acc: 0.8968 - val_loss: 0.2603 - val_acc: 0.9234\n",
            "Epoch 4/50\n",
            "940/940 [==============================] - 7s 7ms/step - loss: 0.3795 - acc: 0.9043 - val_loss: 0.2634 - val_acc: 0.9191\n",
            "Epoch 5/50\n",
            "940/940 [==============================] - 7s 7ms/step - loss: 0.3971 - acc: 0.9011 - val_loss: 0.2862 - val_acc: 0.9106\n",
            "Epoch 6/50\n",
            "940/940 [==============================] - 7s 7ms/step - loss: 0.3731 - acc: 0.9032 - val_loss: 0.2981 - val_acc: 0.9234\n",
            "Epoch 7/50\n",
            "940/940 [==============================] - 7s 7ms/step - loss: 0.3790 - acc: 0.9064 - val_loss: 0.2832 - val_acc: 0.9149\n",
            "Epoch 8/50\n",
            "940/940 [==============================] - 7s 7ms/step - loss: 0.3628 - acc: 0.9011 - val_loss: 0.2859 - val_acc: 0.9106\n",
            "Epoch 9/50\n",
            "940/940 [==============================] - 7s 7ms/step - loss: 0.3554 - acc: 0.9053 - val_loss: 0.3227 - val_acc: 0.8936\n",
            "Epoch 10/50\n",
            "940/940 [==============================] - 7s 7ms/step - loss: 0.3715 - acc: 0.9074 - val_loss: 0.3145 - val_acc: 0.8979\n",
            "Epoch 11/50\n",
            "940/940 [==============================] - 7s 7ms/step - loss: 0.3699 - acc: 0.9011 - val_loss: 0.4191 - val_acc: 0.8936\n",
            "Epoch 12/50\n",
            "940/940 [==============================] - 7s 7ms/step - loss: 0.3687 - acc: 0.9085 - val_loss: 0.4064 - val_acc: 0.9021\n",
            "Epoch 13/50\n",
            "940/940 [==============================] - 7s 7ms/step - loss: 0.3262 - acc: 0.9096 - val_loss: 0.3332 - val_acc: 0.9106\n",
            "Epoch 14/50\n",
            "940/940 [==============================] - 7s 7ms/step - loss: 0.3601 - acc: 0.9074 - val_loss: 0.3157 - val_acc: 0.9106\n",
            "Epoch 15/50\n",
            "940/940 [==============================] - 7s 7ms/step - loss: 0.3526 - acc: 0.9117 - val_loss: 0.3083 - val_acc: 0.9064\n",
            "Epoch 16/50\n",
            "940/940 [==============================] - 7s 7ms/step - loss: 0.3455 - acc: 0.9128 - val_loss: 0.3101 - val_acc: 0.9191\n",
            "Epoch 17/50\n",
            "940/940 [==============================] - 7s 7ms/step - loss: 0.3187 - acc: 0.9128 - val_loss: 0.3048 - val_acc: 0.9064\n",
            "Epoch 18/50\n",
            "940/940 [==============================] - 7s 7ms/step - loss: 0.3509 - acc: 0.9117 - val_loss: 0.3188 - val_acc: 0.9064\n",
            "Epoch 19/50\n",
            "940/940 [==============================] - 7s 7ms/step - loss: 0.3122 - acc: 0.9181 - val_loss: 0.3176 - val_acc: 0.9064\n",
            "Epoch 20/50\n",
            "940/940 [==============================] - 7s 7ms/step - loss: 0.3303 - acc: 0.9064 - val_loss: 0.3106 - val_acc: 0.9064\n",
            "Epoch 21/50\n",
            "940/940 [==============================] - 7s 7ms/step - loss: 0.3095 - acc: 0.9266 - val_loss: 0.3031 - val_acc: 0.9106\n",
            "Epoch 22/50\n",
            "940/940 [==============================] - 7s 7ms/step - loss: 0.3329 - acc: 0.9181 - val_loss: 0.3232 - val_acc: 0.9021\n",
            "Epoch 23/50\n",
            "940/940 [==============================] - 7s 7ms/step - loss: 0.3299 - acc: 0.9128 - val_loss: 0.3025 - val_acc: 0.9191\n",
            "Epoch 24/50\n",
            "940/940 [==============================] - 7s 7ms/step - loss: 0.3243 - acc: 0.9149 - val_loss: 0.3304 - val_acc: 0.9064\n",
            "Epoch 25/50\n",
            "940/940 [==============================] - 7s 7ms/step - loss: 0.2937 - acc: 0.9298 - val_loss: 0.3634 - val_acc: 0.9021\n",
            "Epoch 26/50\n",
            "940/940 [==============================] - 7s 7ms/step - loss: 0.3361 - acc: 0.9181 - val_loss: 0.3368 - val_acc: 0.9064\n",
            "Epoch 27/50\n",
            "940/940 [==============================] - 7s 7ms/step - loss: 0.3183 - acc: 0.9234 - val_loss: 0.3326 - val_acc: 0.8894\n",
            "Epoch 28/50\n",
            "940/940 [==============================] - 7s 7ms/step - loss: 0.2905 - acc: 0.9202 - val_loss: 0.3210 - val_acc: 0.9234\n",
            "Epoch 29/50\n",
            "940/940 [==============================] - 7s 7ms/step - loss: 0.2971 - acc: 0.9191 - val_loss: 0.3212 - val_acc: 0.9149\n",
            "Epoch 30/50\n",
            "940/940 [==============================] - 7s 7ms/step - loss: 0.3020 - acc: 0.9255 - val_loss: 0.3203 - val_acc: 0.8979\n",
            "Epoch 31/50\n",
            "940/940 [==============================] - 6s 7ms/step - loss: 0.2809 - acc: 0.9266 - val_loss: 0.3320 - val_acc: 0.9021\n",
            "Epoch 32/50\n",
            "940/940 [==============================] - 6s 7ms/step - loss: 0.3110 - acc: 0.9223 - val_loss: 0.3410 - val_acc: 0.8979\n",
            "Epoch 33/50\n",
            "940/940 [==============================] - 6s 7ms/step - loss: 0.3201 - acc: 0.9223 - val_loss: 0.3889 - val_acc: 0.8936\n",
            "Epoch 34/50\n",
            "940/940 [==============================] - 6s 7ms/step - loss: 0.2970 - acc: 0.9223 - val_loss: 0.3739 - val_acc: 0.9021\n",
            "Epoch 35/50\n",
            "940/940 [==============================] - 6s 7ms/step - loss: 0.3084 - acc: 0.9170 - val_loss: 0.3479 - val_acc: 0.8936\n",
            "Epoch 36/50\n",
            "940/940 [==============================] - 7s 7ms/step - loss: 0.2911 - acc: 0.9277 - val_loss: 0.3810 - val_acc: 0.9021\n",
            "Epoch 37/50\n",
            "940/940 [==============================] - 7s 7ms/step - loss: 0.3272 - acc: 0.9160 - val_loss: 0.3753 - val_acc: 0.9064\n",
            "Epoch 38/50\n",
            "940/940 [==============================] - 6s 7ms/step - loss: 0.3485 - acc: 0.9128 - val_loss: 0.3837 - val_acc: 0.9021\n",
            "Epoch 39/50\n",
            "940/940 [==============================] - 6s 7ms/step - loss: 0.3275 - acc: 0.9170 - val_loss: 0.3630 - val_acc: 0.8936\n",
            "Epoch 40/50\n",
            "940/940 [==============================] - 7s 7ms/step - loss: 0.3161 - acc: 0.9202 - val_loss: 0.3547 - val_acc: 0.8979\n",
            "Epoch 41/50\n",
            "940/940 [==============================] - 6s 7ms/step - loss: 0.3317 - acc: 0.9160 - val_loss: 0.3694 - val_acc: 0.8936\n",
            "Epoch 42/50\n",
            "940/940 [==============================] - 7s 7ms/step - loss: 0.2933 - acc: 0.9287 - val_loss: 0.3545 - val_acc: 0.8851\n",
            "Epoch 43/50\n",
            "940/940 [==============================] - 7s 7ms/step - loss: 0.3379 - acc: 0.9191 - val_loss: 0.3598 - val_acc: 0.9064\n",
            "Epoch 44/50\n",
            "940/940 [==============================] - 7s 7ms/step - loss: 0.3062 - acc: 0.9245 - val_loss: 0.3702 - val_acc: 0.9021\n",
            "Epoch 45/50\n",
            "940/940 [==============================] - 7s 7ms/step - loss: 0.3322 - acc: 0.9202 - val_loss: 0.3540 - val_acc: 0.9064\n",
            "Epoch 46/50\n",
            "940/940 [==============================] - 7s 7ms/step - loss: 0.3193 - acc: 0.9213 - val_loss: 0.3707 - val_acc: 0.8936\n",
            "Epoch 47/50\n",
            "940/940 [==============================] - 7s 7ms/step - loss: 0.3030 - acc: 0.9128 - val_loss: 0.3647 - val_acc: 0.8936\n",
            "Epoch 48/50\n",
            "940/940 [==============================] - 7s 7ms/step - loss: 0.3107 - acc: 0.9319 - val_loss: 0.3695 - val_acc: 0.8936\n",
            "Epoch 49/50\n",
            "940/940 [==============================] - 7s 7ms/step - loss: 0.3156 - acc: 0.9234 - val_loss: 0.3850 - val_acc: 0.8894\n",
            "Epoch 50/50\n",
            "940/940 [==============================] - 6s 7ms/step - loss: 0.3078 - acc: 0.9181 - val_loss: 0.3554 - val_acc: 0.8979\n",
            "Starting fold number: 3/5\n",
            "Train on 940 samples, validate on 235 samples\n",
            "Epoch 1/50\n",
            "940/940 [==============================] - 7s 7ms/step - loss: 0.3337 - acc: 0.9096 - val_loss: 0.1683 - val_acc: 0.9617\n",
            "Epoch 2/50\n",
            "940/940 [==============================] - 6s 7ms/step - loss: 0.3352 - acc: 0.9181 - val_loss: 0.2009 - val_acc: 0.9404\n",
            "Epoch 3/50\n",
            "940/940 [==============================] - 6s 7ms/step - loss: 0.3262 - acc: 0.9202 - val_loss: 0.2070 - val_acc: 0.9489\n",
            "Epoch 4/50\n",
            "940/940 [==============================] - 6s 7ms/step - loss: 0.3054 - acc: 0.9213 - val_loss: 0.2331 - val_acc: 0.9362\n",
            "Epoch 5/50\n",
            "940/940 [==============================] - 7s 7ms/step - loss: 0.3415 - acc: 0.9213 - val_loss: 0.2476 - val_acc: 0.9362\n",
            "Epoch 6/50\n",
            "940/940 [==============================] - 7s 7ms/step - loss: 0.3000 - acc: 0.9181 - val_loss: 0.2337 - val_acc: 0.9447\n",
            "Epoch 7/50\n",
            "940/940 [==============================] - 7s 7ms/step - loss: 0.3022 - acc: 0.9213 - val_loss: 0.2392 - val_acc: 0.9489\n",
            "Epoch 8/50\n",
            "940/940 [==============================] - 7s 7ms/step - loss: 0.3299 - acc: 0.9234 - val_loss: 0.2390 - val_acc: 0.9404\n",
            "Epoch 9/50\n",
            "940/940 [==============================] - 7s 7ms/step - loss: 0.3124 - acc: 0.9223 - val_loss: 0.2667 - val_acc: 0.9277\n",
            "Epoch 10/50\n",
            "940/940 [==============================] - 6s 7ms/step - loss: 0.3146 - acc: 0.9223 - val_loss: 0.2637 - val_acc: 0.9319\n",
            "Epoch 11/50\n",
            "940/940 [==============================] - 6s 7ms/step - loss: 0.2974 - acc: 0.9255 - val_loss: 0.2799 - val_acc: 0.9319\n",
            "Epoch 12/50\n",
            "940/940 [==============================] - 6s 7ms/step - loss: 0.3305 - acc: 0.9202 - val_loss: 0.2796 - val_acc: 0.9319\n",
            "Epoch 13/50\n",
            "940/940 [==============================] - 6s 7ms/step - loss: 0.3148 - acc: 0.9213 - val_loss: 0.2581 - val_acc: 0.9277\n",
            "Epoch 14/50\n",
            "940/940 [==============================] - 6s 7ms/step - loss: 0.3324 - acc: 0.9170 - val_loss: 0.2726 - val_acc: 0.9319\n",
            "Epoch 15/50\n",
            "940/940 [==============================] - 7s 7ms/step - loss: 0.2944 - acc: 0.9213 - val_loss: 0.2862 - val_acc: 0.9234\n",
            "Epoch 16/50\n",
            "940/940 [==============================] - 7s 7ms/step - loss: 0.2964 - acc: 0.9245 - val_loss: 0.2828 - val_acc: 0.9319\n",
            "Epoch 17/50\n",
            "940/940 [==============================] - 7s 7ms/step - loss: 0.3031 - acc: 0.9287 - val_loss: 0.2658 - val_acc: 0.9362\n",
            "Epoch 18/50\n",
            "940/940 [==============================] - 7s 7ms/step - loss: 0.3193 - acc: 0.9213 - val_loss: 0.2819 - val_acc: 0.9319\n",
            "Epoch 19/50\n",
            "940/940 [==============================] - 7s 7ms/step - loss: 0.2957 - acc: 0.9277 - val_loss: 0.2573 - val_acc: 0.9319\n",
            "Epoch 20/50\n",
            "940/940 [==============================] - 7s 7ms/step - loss: 0.2992 - acc: 0.9266 - val_loss: 0.3011 - val_acc: 0.9277\n",
            "Epoch 21/50\n",
            "940/940 [==============================] - 6s 7ms/step - loss: 0.2893 - acc: 0.9330 - val_loss: 0.2808 - val_acc: 0.9362\n",
            "Epoch 22/50\n",
            "940/940 [==============================] - 7s 7ms/step - loss: 0.2945 - acc: 0.9266 - val_loss: 0.2932 - val_acc: 0.9319\n",
            "Epoch 23/50\n",
            "940/940 [==============================] - 6s 7ms/step - loss: 0.3031 - acc: 0.9266 - val_loss: 0.2792 - val_acc: 0.9404\n",
            "Epoch 24/50\n",
            "940/940 [==============================] - 6s 7ms/step - loss: 0.3156 - acc: 0.9234 - val_loss: 0.2679 - val_acc: 0.9362\n",
            "Epoch 25/50\n",
            "940/940 [==============================] - 7s 7ms/step - loss: 0.3006 - acc: 0.9245 - val_loss: 0.2605 - val_acc: 0.9319\n",
            "Epoch 26/50\n",
            "940/940 [==============================] - 7s 7ms/step - loss: 0.2622 - acc: 0.9330 - val_loss: 0.2806 - val_acc: 0.9362\n",
            "Epoch 27/50\n",
            "940/940 [==============================] - 7s 7ms/step - loss: 0.2830 - acc: 0.9319 - val_loss: 0.2818 - val_acc: 0.9277\n",
            "Epoch 28/50\n",
            "940/940 [==============================] - 7s 7ms/step - loss: 0.3369 - acc: 0.9181 - val_loss: 0.2977 - val_acc: 0.9319\n",
            "Epoch 29/50\n",
            "940/940 [==============================] - 7s 7ms/step - loss: 0.2998 - acc: 0.9266 - val_loss: 0.3046 - val_acc: 0.9319\n",
            "Epoch 30/50\n",
            "940/940 [==============================] - 7s 7ms/step - loss: 0.2873 - acc: 0.9266 - val_loss: 0.2834 - val_acc: 0.9234\n",
            "Epoch 31/50\n",
            "940/940 [==============================] - 7s 7ms/step - loss: 0.3061 - acc: 0.9277 - val_loss: 0.3053 - val_acc: 0.9234\n",
            "Epoch 32/50\n",
            "940/940 [==============================] - 7s 7ms/step - loss: 0.2921 - acc: 0.9287 - val_loss: 0.3544 - val_acc: 0.9234\n",
            "Epoch 33/50\n",
            "940/940 [==============================] - 7s 7ms/step - loss: 0.2973 - acc: 0.9245 - val_loss: 0.3315 - val_acc: 0.9277\n",
            "Epoch 34/50\n",
            "940/940 [==============================] - 7s 7ms/step - loss: 0.2841 - acc: 0.9245 - val_loss: 0.2933 - val_acc: 0.9404\n",
            "Epoch 35/50\n",
            "940/940 [==============================] - 6s 7ms/step - loss: 0.2717 - acc: 0.9277 - val_loss: 0.3178 - val_acc: 0.9362\n",
            "Epoch 36/50\n",
            "940/940 [==============================] - 6s 7ms/step - loss: 0.3104 - acc: 0.9234 - val_loss: 0.3267 - val_acc: 0.9319\n",
            "Epoch 37/50\n",
            "940/940 [==============================] - 6s 7ms/step - loss: 0.2879 - acc: 0.9362 - val_loss: 0.3307 - val_acc: 0.9362\n",
            "Epoch 38/50\n",
            "940/940 [==============================] - 6s 7ms/step - loss: 0.2833 - acc: 0.9223 - val_loss: 0.3258 - val_acc: 0.9277\n",
            "Epoch 39/50\n",
            "940/940 [==============================] - 6s 7ms/step - loss: 0.2922 - acc: 0.9277 - val_loss: 0.3349 - val_acc: 0.9277\n",
            "Epoch 40/50\n",
            "940/940 [==============================] - 6s 7ms/step - loss: 0.2633 - acc: 0.9319 - val_loss: 0.3345 - val_acc: 0.9319\n",
            "Epoch 41/50\n",
            "940/940 [==============================] - 6s 7ms/step - loss: 0.2872 - acc: 0.9309 - val_loss: 0.3398 - val_acc: 0.9277\n",
            "Epoch 42/50\n",
            "940/940 [==============================] - 6s 7ms/step - loss: 0.2900 - acc: 0.9213 - val_loss: 0.3383 - val_acc: 0.9234\n",
            "Epoch 43/50\n",
            "940/940 [==============================] - 6s 7ms/step - loss: 0.2761 - acc: 0.9277 - val_loss: 0.3332 - val_acc: 0.9234\n",
            "Epoch 44/50\n",
            "940/940 [==============================] - 6s 7ms/step - loss: 0.2976 - acc: 0.9202 - val_loss: 0.3269 - val_acc: 0.9234\n",
            "Epoch 45/50\n",
            "940/940 [==============================] - 6s 7ms/step - loss: 0.2799 - acc: 0.9298 - val_loss: 0.3266 - val_acc: 0.9277\n",
            "Epoch 46/50\n",
            "940/940 [==============================] - 6s 7ms/step - loss: 0.2740 - acc: 0.9309 - val_loss: 0.3554 - val_acc: 0.9319\n",
            "Epoch 47/50\n",
            "940/940 [==============================] - 6s 7ms/step - loss: 0.2996 - acc: 0.9298 - val_loss: 0.3615 - val_acc: 0.9106\n",
            "Epoch 48/50\n",
            "940/940 [==============================] - 6s 7ms/step - loss: 0.3114 - acc: 0.9213 - val_loss: 0.3689 - val_acc: 0.9149\n",
            "Epoch 49/50\n",
            "940/940 [==============================] - 6s 7ms/step - loss: 0.3158 - acc: 0.9266 - val_loss: 0.3533 - val_acc: 0.9234\n",
            "Epoch 50/50\n",
            "940/940 [==============================] - 6s 7ms/step - loss: 0.2756 - acc: 0.9309 - val_loss: 0.3443 - val_acc: 0.9277\n",
            "Starting fold number: 4/5\n",
            "Train on 940 samples, validate on 235 samples\n",
            "Epoch 1/50\n",
            "940/940 [==============================] - 7s 7ms/step - loss: 0.2865 - acc: 0.9330 - val_loss: 0.2305 - val_acc: 0.9447\n",
            "Epoch 2/50\n",
            "940/940 [==============================] - 7s 7ms/step - loss: 0.3007 - acc: 0.9309 - val_loss: 0.2311 - val_acc: 0.9489\n",
            "Epoch 3/50\n",
            "940/940 [==============================] - 7s 7ms/step - loss: 0.2739 - acc: 0.9362 - val_loss: 0.2796 - val_acc: 0.9234\n",
            "Epoch 4/50\n",
            "940/940 [==============================] - 7s 7ms/step - loss: 0.2821 - acc: 0.9277 - val_loss: 0.2763 - val_acc: 0.9319\n",
            "Epoch 5/50\n",
            "940/940 [==============================] - 7s 7ms/step - loss: 0.2995 - acc: 0.9309 - val_loss: 0.2823 - val_acc: 0.9149\n",
            "Epoch 6/50\n",
            "940/940 [==============================] - 7s 7ms/step - loss: 0.2816 - acc: 0.9245 - val_loss: 0.2348 - val_acc: 0.9489\n",
            "Epoch 7/50\n",
            "940/940 [==============================] - 7s 7ms/step - loss: 0.2633 - acc: 0.9330 - val_loss: 0.2546 - val_acc: 0.9362\n",
            "Epoch 8/50\n",
            "940/940 [==============================] - 7s 7ms/step - loss: 0.2717 - acc: 0.9298 - val_loss: 0.2692 - val_acc: 0.9234\n",
            "Epoch 9/50\n",
            "940/940 [==============================] - 7s 7ms/step - loss: 0.2544 - acc: 0.9362 - val_loss: 0.2442 - val_acc: 0.9404\n",
            "Epoch 10/50\n",
            "940/940 [==============================] - 7s 7ms/step - loss: 0.2668 - acc: 0.9362 - val_loss: 0.2726 - val_acc: 0.9234\n",
            "Epoch 11/50\n",
            "940/940 [==============================] - 6s 7ms/step - loss: 0.2727 - acc: 0.9266 - val_loss: 0.2942 - val_acc: 0.9021\n",
            "Epoch 12/50\n",
            "940/940 [==============================] - 6s 7ms/step - loss: 0.2648 - acc: 0.9309 - val_loss: 0.2746 - val_acc: 0.8979\n",
            "Epoch 13/50\n",
            "940/940 [==============================] - 7s 7ms/step - loss: 0.2562 - acc: 0.9330 - val_loss: 0.2868 - val_acc: 0.9106\n",
            "Epoch 14/50\n",
            "940/940 [==============================] - 6s 7ms/step - loss: 0.2543 - acc: 0.9330 - val_loss: 0.2944 - val_acc: 0.9149\n",
            "Epoch 15/50\n",
            "940/940 [==============================] - 6s 7ms/step - loss: 0.2556 - acc: 0.9319 - val_loss: 0.3527 - val_acc: 0.9234\n",
            "Epoch 16/50\n",
            "940/940 [==============================] - 6s 7ms/step - loss: 0.2685 - acc: 0.9351 - val_loss: 0.3627 - val_acc: 0.9021\n",
            "Epoch 17/50\n",
            "940/940 [==============================] - 6s 7ms/step - loss: 0.2610 - acc: 0.9372 - val_loss: 0.3322 - val_acc: 0.9064\n",
            "Epoch 18/50\n",
            "940/940 [==============================] - 7s 7ms/step - loss: 0.2507 - acc: 0.9383 - val_loss: 0.2738 - val_acc: 0.9404\n",
            "Epoch 19/50\n",
            "940/940 [==============================] - 6s 7ms/step - loss: 0.2341 - acc: 0.9447 - val_loss: 0.2877 - val_acc: 0.9447\n",
            "Epoch 20/50\n",
            "940/940 [==============================] - 7s 7ms/step - loss: 0.2861 - acc: 0.9330 - val_loss: 0.2666 - val_acc: 0.9362\n",
            "Epoch 21/50\n",
            "940/940 [==============================] - 7s 7ms/step - loss: 0.2594 - acc: 0.9372 - val_loss: 0.2571 - val_acc: 0.9404\n",
            "Epoch 22/50\n",
            "940/940 [==============================] - 7s 7ms/step - loss: 0.2575 - acc: 0.9277 - val_loss: 0.2730 - val_acc: 0.9319\n",
            "Epoch 23/50\n",
            "940/940 [==============================] - 6s 7ms/step - loss: 0.2662 - acc: 0.9340 - val_loss: 0.4126 - val_acc: 0.8979\n",
            "Epoch 24/50\n",
            "940/940 [==============================] - 6s 7ms/step - loss: 0.2275 - acc: 0.9362 - val_loss: 0.3858 - val_acc: 0.9021\n",
            "Epoch 25/50\n",
            "940/940 [==============================] - 6s 7ms/step - loss: 0.2475 - acc: 0.9394 - val_loss: 0.3194 - val_acc: 0.9191\n",
            "Epoch 26/50\n",
            "940/940 [==============================] - 6s 7ms/step - loss: 0.2539 - acc: 0.9351 - val_loss: 0.3170 - val_acc: 0.9149\n",
            "Epoch 27/50\n",
            "940/940 [==============================] - 6s 7ms/step - loss: 0.2324 - acc: 0.9340 - val_loss: 0.3169 - val_acc: 0.9149\n",
            "Epoch 28/50\n",
            "940/940 [==============================] - 7s 7ms/step - loss: 0.2605 - acc: 0.9372 - val_loss: 0.3347 - val_acc: 0.9064\n",
            "Epoch 29/50\n",
            "940/940 [==============================] - 6s 7ms/step - loss: 0.2544 - acc: 0.9404 - val_loss: 0.2947 - val_acc: 0.9149\n",
            "Epoch 30/50\n",
            "940/940 [==============================] - 7s 7ms/step - loss: 0.2768 - acc: 0.9340 - val_loss: 0.3021 - val_acc: 0.9149\n",
            "Epoch 31/50\n",
            "940/940 [==============================] - 6s 7ms/step - loss: 0.2419 - acc: 0.9372 - val_loss: 0.2861 - val_acc: 0.9447\n",
            "Epoch 32/50\n",
            "940/940 [==============================] - 7s 7ms/step - loss: 0.2766 - acc: 0.9298 - val_loss: 0.3247 - val_acc: 0.9149\n",
            "Epoch 33/50\n",
            "940/940 [==============================] - 7s 7ms/step - loss: 0.2200 - acc: 0.9500 - val_loss: 0.2872 - val_acc: 0.9319\n",
            "Epoch 34/50\n",
            "940/940 [==============================] - 6s 7ms/step - loss: 0.2418 - acc: 0.9394 - val_loss: 0.3070 - val_acc: 0.9234\n",
            "Epoch 35/50\n",
            "940/940 [==============================] - 6s 7ms/step - loss: 0.2398 - acc: 0.9383 - val_loss: 0.2643 - val_acc: 0.9447\n",
            "Epoch 36/50\n",
            "940/940 [==============================] - 6s 7ms/step - loss: 0.2183 - acc: 0.9489 - val_loss: 0.2761 - val_acc: 0.9404\n",
            "Epoch 37/50\n",
            "940/940 [==============================] - 6s 7ms/step - loss: 0.2488 - acc: 0.9404 - val_loss: 0.2853 - val_acc: 0.9277\n",
            "Epoch 38/50\n",
            "940/940 [==============================] - 6s 7ms/step - loss: 0.2213 - acc: 0.9479 - val_loss: 0.2926 - val_acc: 0.9277\n",
            "Epoch 39/50\n",
            "940/940 [==============================] - 6s 7ms/step - loss: 0.2504 - acc: 0.9351 - val_loss: 0.3168 - val_acc: 0.9149\n",
            "Epoch 40/50\n",
            "940/940 [==============================] - 6s 7ms/step - loss: 0.2625 - acc: 0.9245 - val_loss: 0.3231 - val_acc: 0.9106\n",
            "Epoch 41/50\n",
            "940/940 [==============================] - 6s 7ms/step - loss: 0.2499 - acc: 0.9340 - val_loss: 0.3017 - val_acc: 0.9191\n",
            "Epoch 42/50\n",
            "940/940 [==============================] - 6s 7ms/step - loss: 0.2623 - acc: 0.9340 - val_loss: 0.2640 - val_acc: 0.9404\n",
            "Epoch 43/50\n",
            "940/940 [==============================] - 6s 7ms/step - loss: 0.2392 - acc: 0.9426 - val_loss: 0.2620 - val_acc: 0.9362\n",
            "Epoch 44/50\n",
            "940/940 [==============================] - 7s 7ms/step - loss: 0.2269 - acc: 0.9394 - val_loss: 0.2653 - val_acc: 0.9447\n",
            "Epoch 45/50\n",
            "940/940 [==============================] - 6s 7ms/step - loss: 0.2423 - acc: 0.9404 - val_loss: 0.3063 - val_acc: 0.9362\n",
            "Epoch 46/50\n",
            "940/940 [==============================] - 6s 7ms/step - loss: 0.2447 - acc: 0.9404 - val_loss: 0.3340 - val_acc: 0.9106\n",
            "Epoch 47/50\n",
            "940/940 [==============================] - 7s 7ms/step - loss: 0.2315 - acc: 0.9426 - val_loss: 0.3383 - val_acc: 0.9149\n",
            "Epoch 48/50\n",
            "940/940 [==============================] - 7s 7ms/step - loss: 0.2545 - acc: 0.9330 - val_loss: 0.3036 - val_acc: 0.9362\n",
            "Epoch 49/50\n",
            "940/940 [==============================] - 6s 7ms/step - loss: 0.2319 - acc: 0.9383 - val_loss: 0.3063 - val_acc: 0.9362\n",
            "Epoch 50/50\n",
            "940/940 [==============================] - 6s 7ms/step - loss: 0.2179 - acc: 0.9468 - val_loss: 0.2979 - val_acc: 0.9404\n",
            "Starting fold number: 5/5\n",
            "Train on 940 samples, validate on 235 samples\n",
            "Epoch 1/50\n",
            "940/940 [==============================] - 6s 7ms/step - loss: 0.2774 - acc: 0.9287 - val_loss: 0.1725 - val_acc: 0.9617\n",
            "Epoch 2/50\n",
            "940/940 [==============================] - 6s 7ms/step - loss: 0.2759 - acc: 0.9372 - val_loss: 0.1653 - val_acc: 0.9617\n",
            "Epoch 3/50\n",
            "940/940 [==============================] - 6s 7ms/step - loss: 0.2482 - acc: 0.9351 - val_loss: 0.1693 - val_acc: 0.9617\n",
            "Epoch 4/50\n",
            "940/940 [==============================] - 6s 7ms/step - loss: 0.2848 - acc: 0.9245 - val_loss: 0.1805 - val_acc: 0.9489\n",
            "Epoch 5/50\n",
            "940/940 [==============================] - 7s 7ms/step - loss: 0.2728 - acc: 0.9309 - val_loss: 0.1727 - val_acc: 0.9574\n",
            "Epoch 6/50\n",
            "940/940 [==============================] - 7s 7ms/step - loss: 0.2684 - acc: 0.9277 - val_loss: 0.1945 - val_acc: 0.9489\n",
            "Epoch 7/50\n",
            "940/940 [==============================] - 6s 7ms/step - loss: 0.2520 - acc: 0.9351 - val_loss: 0.1833 - val_acc: 0.9574\n",
            "Epoch 8/50\n",
            "940/940 [==============================] - 6s 7ms/step - loss: 0.2570 - acc: 0.9372 - val_loss: 0.1815 - val_acc: 0.9574\n",
            "Epoch 9/50\n",
            "940/940 [==============================] - 6s 7ms/step - loss: 0.2604 - acc: 0.9362 - val_loss: 0.1889 - val_acc: 0.9447\n",
            "Epoch 10/50\n",
            "940/940 [==============================] - 6s 7ms/step - loss: 0.2566 - acc: 0.9372 - val_loss: 0.2043 - val_acc: 0.9447\n",
            "Epoch 11/50\n",
            "940/940 [==============================] - 6s 7ms/step - loss: 0.2699 - acc: 0.9298 - val_loss: 0.1880 - val_acc: 0.9447\n",
            "Epoch 12/50\n",
            "940/940 [==============================] - 6s 7ms/step - loss: 0.2692 - acc: 0.9298 - val_loss: 0.2118 - val_acc: 0.9404\n",
            "Epoch 13/50\n",
            "940/940 [==============================] - 7s 7ms/step - loss: 0.2692 - acc: 0.9266 - val_loss: 0.1955 - val_acc: 0.9489\n",
            "Epoch 14/50\n",
            "940/940 [==============================] - 6s 7ms/step - loss: 0.2456 - acc: 0.9394 - val_loss: 0.1980 - val_acc: 0.9404\n",
            "Epoch 15/50\n",
            "940/940 [==============================] - 6s 7ms/step - loss: 0.2557 - acc: 0.9372 - val_loss: 0.1930 - val_acc: 0.9404\n",
            "Epoch 16/50\n",
            "940/940 [==============================] - 7s 7ms/step - loss: 0.2815 - acc: 0.9266 - val_loss: 0.2153 - val_acc: 0.9447\n",
            "Epoch 17/50\n",
            "940/940 [==============================] - 7s 7ms/step - loss: 0.2400 - acc: 0.9457 - val_loss: 0.1916 - val_acc: 0.9489\n",
            "Epoch 18/50\n",
            "940/940 [==============================] - 7s 7ms/step - loss: 0.2600 - acc: 0.9394 - val_loss: 0.2213 - val_acc: 0.9404\n",
            "Epoch 19/50\n",
            "940/940 [==============================] - 6s 7ms/step - loss: 0.2443 - acc: 0.9394 - val_loss: 0.2023 - val_acc: 0.9489\n",
            "Epoch 20/50\n",
            "940/940 [==============================] - 7s 7ms/step - loss: 0.2535 - acc: 0.9415 - val_loss: 0.1933 - val_acc: 0.9489\n",
            "Epoch 21/50\n",
            "940/940 [==============================] - 6s 7ms/step - loss: 0.2636 - acc: 0.9309 - val_loss: 0.1849 - val_acc: 0.9532\n",
            "Epoch 22/50\n",
            "940/940 [==============================] - 6s 7ms/step - loss: 0.2504 - acc: 0.9426 - val_loss: 0.1869 - val_acc: 0.9574\n",
            "Epoch 23/50\n",
            "940/940 [==============================] - 7s 7ms/step - loss: 0.2402 - acc: 0.9426 - val_loss: 0.1734 - val_acc: 0.9574\n",
            "Epoch 24/50\n",
            "940/940 [==============================] - 6s 7ms/step - loss: 0.2719 - acc: 0.9223 - val_loss: 0.2209 - val_acc: 0.9532\n",
            "Epoch 25/50\n",
            "940/940 [==============================] - 7s 7ms/step - loss: 0.2863 - acc: 0.9287 - val_loss: 0.1820 - val_acc: 0.9574\n",
            "Epoch 26/50\n",
            "940/940 [==============================] - 7s 7ms/step - loss: 0.2526 - acc: 0.9362 - val_loss: 0.1784 - val_acc: 0.9574\n",
            "Epoch 27/50\n",
            "940/940 [==============================] - 7s 7ms/step - loss: 0.2337 - acc: 0.9362 - val_loss: 0.1821 - val_acc: 0.9574\n",
            "Epoch 28/50\n",
            "940/940 [==============================] - 7s 7ms/step - loss: 0.2302 - acc: 0.9447 - val_loss: 0.1773 - val_acc: 0.9574\n",
            "Epoch 29/50\n",
            "940/940 [==============================] - 6s 7ms/step - loss: 0.2482 - acc: 0.9415 - val_loss: 0.1928 - val_acc: 0.9489\n",
            "Epoch 30/50\n",
            "940/940 [==============================] - 6s 7ms/step - loss: 0.2470 - acc: 0.9383 - val_loss: 0.1801 - val_acc: 0.9574\n",
            "Epoch 31/50\n",
            "940/940 [==============================] - 7s 7ms/step - loss: 0.2794 - acc: 0.9266 - val_loss: 0.2054 - val_acc: 0.9489\n",
            "Epoch 32/50\n",
            "940/940 [==============================] - 6s 7ms/step - loss: 0.2311 - acc: 0.9415 - val_loss: 0.1981 - val_acc: 0.9532\n",
            "Epoch 33/50\n",
            "940/940 [==============================] - 7s 7ms/step - loss: 0.2763 - acc: 0.9330 - val_loss: 0.2019 - val_acc: 0.9447\n",
            "Epoch 34/50\n",
            "940/940 [==============================] - 6s 7ms/step - loss: 0.2543 - acc: 0.9394 - val_loss: 0.1959 - val_acc: 0.9489\n",
            "Epoch 35/50\n",
            "940/940 [==============================] - 7s 7ms/step - loss: 0.2769 - acc: 0.9362 - val_loss: 0.2079 - val_acc: 0.9447\n",
            "Epoch 36/50\n",
            "940/940 [==============================] - 7s 7ms/step - loss: 0.2586 - acc: 0.9404 - val_loss: 0.1869 - val_acc: 0.9574\n",
            "Epoch 37/50\n",
            "940/940 [==============================] - 7s 7ms/step - loss: 0.2407 - acc: 0.9468 - val_loss: 0.1965 - val_acc: 0.9532\n",
            "Epoch 38/50\n",
            "940/940 [==============================] - 7s 7ms/step - loss: 0.2449 - acc: 0.9383 - val_loss: 0.1993 - val_acc: 0.9532\n",
            "Epoch 39/50\n",
            "940/940 [==============================] - 7s 7ms/step - loss: 0.2702 - acc: 0.9309 - val_loss: 0.1922 - val_acc: 0.9489\n",
            "Epoch 40/50\n",
            "940/940 [==============================] - 6s 7ms/step - loss: 0.2419 - acc: 0.9372 - val_loss: 0.1981 - val_acc: 0.9489\n",
            "Epoch 41/50\n",
            "940/940 [==============================] - 6s 7ms/step - loss: 0.2359 - acc: 0.9415 - val_loss: 0.1841 - val_acc: 0.9574\n",
            "Epoch 42/50\n",
            "940/940 [==============================] - 6s 7ms/step - loss: 0.2390 - acc: 0.9372 - val_loss: 0.2013 - val_acc: 0.9489\n",
            "Epoch 43/50\n",
            "940/940 [==============================] - 7s 7ms/step - loss: 0.2586 - acc: 0.9394 - val_loss: 0.1901 - val_acc: 0.9489\n",
            "Epoch 44/50\n",
            "940/940 [==============================] - 7s 7ms/step - loss: 0.2406 - acc: 0.9394 - val_loss: 0.1786 - val_acc: 0.9574\n",
            "Epoch 45/50\n",
            "940/940 [==============================] - 7s 7ms/step - loss: 0.2453 - acc: 0.9362 - val_loss: 0.1866 - val_acc: 0.9532\n",
            "Epoch 46/50\n",
            "940/940 [==============================] - 6s 7ms/step - loss: 0.2428 - acc: 0.9404 - val_loss: 0.1934 - val_acc: 0.9489\n",
            "Epoch 47/50\n",
            "940/940 [==============================] - 6s 7ms/step - loss: 0.2422 - acc: 0.9457 - val_loss: 0.2984 - val_acc: 0.9362\n",
            "Epoch 48/50\n",
            "940/940 [==============================] - 6s 7ms/step - loss: 0.2457 - acc: 0.9394 - val_loss: 0.2441 - val_acc: 0.9447\n",
            "Epoch 49/50\n",
            "940/940 [==============================] - 6s 7ms/step - loss: 0.2139 - acc: 0.9457 - val_loss: 0.1900 - val_acc: 0.9447\n",
            "Epoch 50/50\n",
            "940/940 [==============================] - 6s 7ms/step - loss: 0.2269 - acc: 0.9457 - val_loss: 0.2061 - val_acc: 0.9404\n"
          ],
          "name": "stdout"
        }
      ]
    },
    {
      "cell_type": "code",
      "metadata": {
        "id": "jEmOZyUoFN_B",
        "colab_type": "code",
        "colab": {}
      },
      "source": [
        "for i in range(1, len(history)):\n",
        "  for k in list(history[0].history.keys()):\n",
        "    history[0].history[k].extend(history[i].history[k])\n",
        "history = history[0]"
      ],
      "execution_count": 0,
      "outputs": []
    },
    {
      "cell_type": "code",
      "metadata": {
        "id": "VZW7Jds6oNoz",
        "colab_type": "code",
        "outputId": "c781c7ea-c75e-43b1-9e7d-f5508e8f7b10",
        "colab": {
          "base_uri": "https://localhost:8080/",
          "height": 35
        }
      },
      "source": [
        "y_pred = model.predict(X_test, batch_size=32, verbose=1)\n",
        "y_pred = np.argmax(y_pred, axis=1)"
      ],
      "execution_count": 17,
      "outputs": [
        {
          "output_type": "stream",
          "text": [
            "131/131 [==============================] - 1s 7ms/step\n"
          ],
          "name": "stdout"
        }
      ]
    },
    {
      "cell_type": "code",
      "metadata": {
        "id": "016wM9ffiMmR",
        "colab_type": "code",
        "outputId": "1bd85d1c-e932-4c46-8c24-f2d797e0e9d8",
        "colab": {
          "base_uri": "https://localhost:8080/",
          "height": 281
        }
      },
      "source": [
        "# plot loss during training\n",
        "plt.subplot(211)\n",
        "plt.title('Loss')\n",
        "plt.plot(history.history['loss'], label='train')\n",
        "plt.plot(history.history['val_loss'], label='test')\n",
        "plt.legend()\n",
        "# plot accuracy during training\n",
        "plt.subplot(212)\n",
        "plt.title('Accuracy')\n",
        "plt.plot(history.history['acc'], label='train')\n",
        "plt.plot(history.history['val_acc'], label='test')\n",
        "plt.legend()\n",
        "plt.show()"
      ],
      "execution_count": 18,
      "outputs": [
        {
          "output_type": "display_data",
          "data": {
            "image/png": "[encoded data removed]",
            "text/plain": [
              "<Figure size 432x288 with 2 Axes>"
            ]
          },
          "metadata": {
            "tags": []
          }
        }
      ]
    },
    {
      "cell_type": "markdown",
      "metadata": {
        "id": "N3aEoJTZh_R8",
        "colab_type": "text"
      },
      "source": [
        "Precision, recall and F1 "
      ]
    },
    {
      "cell_type": "code",
      "metadata": {
        "id": "KfnkkQWbbN-6",
        "colab_type": "code",
        "outputId": "3022cdc8-968b-42c8-e580-51f48e127477",
        "colab": {
          "base_uri": "https://localhost:8080/",
          "height": 263
        }
      },
      "source": [
        "print(classification_report(np.argmax(Y_test, axis=1), y_pred))"
      ],
      "execution_count": 19,
      "outputs": [
        {
          "output_type": "stream",
          "text": [
            "              precision    recall  f1-score   support\n",
            "\n",
            "           0       0.95      0.99      0.97       100\n",
            "           1       0.00      0.00      0.00         1\n",
            "           2       0.50      0.20      0.29         5\n",
            "           3       0.96      0.96      0.96        25\n",
            "\n",
            "    accuracy                           0.95       131\n",
            "   macro avg       0.60      0.54      0.55       131\n",
            "weighted avg       0.93      0.95      0.94       131\n",
            "\n"
          ],
          "name": "stdout"
        },
        {
          "output_type": "stream",
          "text": [
            "/usr/local/lib/python3.6/dist-packages/sklearn/metrics/classification.py:1437: UndefinedMetricWarning: Precision and F-score are ill-defined and being set to 0.0 in labels with no predicted samples.\n",
            "  'precision', 'predicted', average, warn_for)\n"
          ],
          "name": "stderr"
        }
      ]
    },
    {
      "cell_type": "markdown",
      "metadata": {
        "id": "74jii9m2imik",
        "colab_type": "text"
      },
      "source": [
        "Plot Confusion matrix function"
      ]
    },
    {
      "cell_type": "code",
      "metadata": {
        "id": "Vr8LZ1CsAfcq",
        "colab_type": "code",
        "colab": {}
      },
      "source": [
        "def plot_confusion_matrix(y_true, y_pred, classes, cmap=plt.cm.Blues):\n",
        "  \n",
        "  # This function plots the confusion matrix of the classes\n",
        "  \n",
        "  # Inputs:\n",
        "  # y_test - the real labels\n",
        "  # y_pred - the predicted labels\n",
        "  # classes - the classes names\n",
        "  \n",
        "  cm = confusion_matrix(y_true, y_pred) # compute confusion matrix\n",
        "  cm = cm.astype('float') / cm.sum(axis=1)[:, np.newaxis] # normalize the confusion matrix\n",
        "\n",
        "  fig = plt.subplot() # set figure\n",
        "  plt.imshow(cm, interpolation='nearest', cmap=cmap) # plot the confusion matrix\n",
        "  \n",
        "  plt.colorbar()\n",
        "  plt.xticks(range(len(classes)), classes) # add ticks labels\n",
        "  plt.yticks(range(len(classes)), classes) # add ticks labels\n",
        "  plt.xlabel('Predicted') # add x label\n",
        "  plt.ylabel('True') # add y label\n",
        "\n",
        "\n",
        "  # Loop over data dimensions and create text annotations.\n",
        "  fmt = '.2f'\n",
        "  thresh = cm.max() / 2.\n",
        "  for i in range(cm.shape[0]):\n",
        "      for j in range(cm.shape[1]):\n",
        "          fig.text(j, i, format(cm[i, j], fmt),\n",
        "                  ha=\"center\", va=\"center\",\n",
        "                  color=\"white\" if cm[i, j] > thresh else \"black\")\n",
        "  plt.show()"
      ],
      "execution_count": 0,
      "outputs": []
    },
    {
      "cell_type": "markdown",
      "metadata": {
        "id": "NaQISD7pkhKt",
        "colab_type": "text"
      },
      "source": [
        "Plot confusion matrix"
      ]
    },
    {
      "cell_type": "code",
      "metadata": {
        "id": "NAcq9jvrbw8Y",
        "colab_type": "code",
        "outputId": "200f66f6-7a95-4896-97fa-564d758d3fe4",
        "colab": {
          "base_uri": "https://localhost:8080/",
          "height": 283
        }
      },
      "source": [
        "plot_confusion_matrix(np.argmax(Y_test, axis=1), y_pred, classes)"
      ],
      "execution_count": 21,
      "outputs": [
        {
          "output_type": "display_data",
          "data": {
            "image/png": "[encoded data removed]",
            "text/plain": [
              "<Figure size 432x288 with 2 Axes>"
            ]
          },
          "metadata": {
            "tags": []
          }
        }
      ]
    }
  ]
}